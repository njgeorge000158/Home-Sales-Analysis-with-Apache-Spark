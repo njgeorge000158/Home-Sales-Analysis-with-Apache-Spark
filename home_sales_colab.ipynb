{
 "cells": [
  {
   "cell_type": "markdown",
   "metadata": {
    "colab_type": "text",
    "id": "view-in-github"
   },
   "source": [
    "<a href=\"https://colab.research.google.com/github/njamesgeorge1223/Home-Sales-Analysis-with-Google-Colab-and-PySpark/blob/main/home_sales_colab.ipynb\" target=\"_parent\"><img src=\"https://colab.research.google.com/assets/colab-badge.svg\" alt=\"Open In Colab\"/></a>"
   ]
  },
  {
   "cell_type": "code",
   "execution_count": 1,
   "metadata": {
    "colab": {
     "base_uri": "https://localhost:8080/"
    },
    "id": "a_KW73O2e3dw",
    "outputId": "990720f9-bd1e-467d-8615-2b2bb59c9e22"
   },
   "outputs": [
    {
     "name": "stdout",
     "output_type": "stream",
     "text": [
      "Hit:1 http://archive.ubuntu.com/ubuntu jammy InRelease\n",
      "Get:2 http://archive.ubuntu.com/ubuntu jammy-updates InRelease [119 kB]\n",
      "Get:3 http://archive.ubuntu.com/ubuntu jammy-backports InRelease [109 kB]\n",
      "Get:4 http://security.ubuntu.com/ubuntu jammy-security InRelease [110 kB]\n",
      "Get:5 https://cloud.r-project.org/bin/linux/ubuntu jammy-cran40/ InRelease [3,626 B]\n",
      "Get:6 https://developer.download.nvidia.com/compute/cuda/repos/ubuntu2204/x86_64  InRelease [1,581 B]\n",
      "Hit:7 https://ppa.launchpadcontent.net/c2d4u.team/c2d4u4.0+/ubuntu jammy InRelease\n",
      "Hit:8 https://ppa.launchpadcontent.net/deadsnakes/ppa/ubuntu jammy InRelease\n",
      "Hit:9 https://ppa.launchpadcontent.net/graphics-drivers/ppa/ubuntu jammy InRelease\n",
      "Hit:10 https://ppa.launchpadcontent.net/ubuntugis/ppa/ubuntu jammy InRelease\n",
      "Get:11 http://archive.ubuntu.com/ubuntu jammy-updates/main amd64 Packages [1,848 kB]\n",
      "Get:12 http://archive.ubuntu.com/ubuntu jammy-updates/restricted amd64 Packages [1,998 kB]\n",
      "Get:13 http://archive.ubuntu.com/ubuntu jammy-updates/universe amd64 Packages [1,353 kB]\n",
      "Get:14 https://developer.download.nvidia.com/compute/cuda/repos/ubuntu2204/x86_64  Packages [737 kB]\n",
      "Get:15 http://archive.ubuntu.com/ubuntu jammy-backports/universe amd64 Packages [33.3 kB]\n",
      "Get:16 http://security.ubuntu.com/ubuntu jammy-security/restricted amd64 Packages [1,961 kB]\n",
      "Get:17 http://security.ubuntu.com/ubuntu jammy-security/main amd64 Packages [1,569 kB]\n",
      "Fetched 9,842 kB in 5s (1,872 kB/s)\n",
      "Reading package lists... Done\n"
     ]
    }
   ],
   "source": [
    "#*******************************************************************************************\n",
    " #\n",
    " #  File Name:  home_sales_colab.ipynb\n",
    " #\n",
    " #  File Description:\n",
    " #      This Google Colab notebook, HomeSalesColab.ipynb, uses PySpark and SparkSQL\n",
    " #      to determine key metrics about home sales data.\n",
    " #\n",
    " #\n",
    " #  Date            Description                             Programmer\n",
    " #  ----------      ------------------------------------    ------------------\n",
    " #  11/25/2023      Initial Development                     Nicholas J. George\n",
    " #\n",
    " #******************************************************************************************/\n",
    "\n",
    "import os\n",
    "import time\n",
    "\n",
    "spark_version_string = 'spark-3.5.1'\n",
    "\n",
    "os.environ['SPARK_VERSION'] = spark_version_string\n",
    "\n",
    "# These commands install Apache Spark and Java.\n",
    "!apt-get update\n",
    "!apt-get install openjdk-11-jdk-headless -qq > /dev/null\n",
    "!wget -q http://www.apache.org/dist/spark/$SPARK_VERSION/$SPARK_VERSION-bin-hadoop3.tgz\n",
    "!tar xf $SPARK_VERSION-bin-hadoop3.tgz\n",
    "!pip install -q findspark\n",
    "\n",
    "\n",
    "# These lines of code set the environmental variables.\n",
    "os.environ['JAVA_HOME'] = '/usr/lib/jvm/java-11-openjdk-amd64'\n",
    "\n",
    "os.environ['SPARK_HOME'] = f'/content/{spark_version_string}-bin-hadoop3'"
   ]
  },
  {
   "cell_type": "code",
   "execution_count": 2,
   "metadata": {
    "id": "2XbWNf1Te5fM"
   },
   "outputs": [],
   "source": [
    "import findspark\n",
    "findspark.init()\n",
    "\n",
    "from pyspark import SparkFiles\n",
    "from pyspark.sql import SparkSession\n",
    "from pyspark.sql.functions import round, avg\n",
    "\n",
    "# This line of code creates a Spark Session.\n",
    "current_spark_session = SparkSession.builder.appName('SparkSQL').getOrCreate()"
   ]
  },
  {
   "cell_type": "code",
   "execution_count": 3,
   "metadata": {
    "colab": {
     "base_uri": "https://localhost:8080/"
    },
    "id": "wOJqxG_RPSwp",
    "outputId": "4bc53296-2cbb-486b-9717-99266801aec9"
   },
   "outputs": [
    {
     "name": "stdout",
     "output_type": "stream",
     "text": [
      "+--------------------+----------+----------+------+--------+---------+-----------+--------+------+----------+----+\n",
      "|                  id|      date|date_built| price|bedrooms|bathrooms|sqft_living|sqft_lot|floors|waterfront|view|\n",
      "+--------------------+----------+----------+------+--------+---------+-----------+--------+------+----------+----+\n",
      "|f8a53099-ba1c-47d...|2022-04-08|      2016|936923|       4|        3|       3167|   11733|     2|         1|  76|\n",
      "|7530a2d8-1ae3-451...|2021-06-13|      2013|379628|       2|        2|       2235|   14384|     1|         0|  23|\n",
      "|43de979c-0bf0-4c9...|2019-04-12|      2014|417866|       2|        2|       2127|   10575|     2|         0|   0|\n",
      "|b672c137-b88c-48b...|2019-10-16|      2016|239895|       2|        2|       1631|   11149|     2|         0|   0|\n",
      "|e0726d4d-d595-407...|2022-01-08|      2017|424418|       3|        2|       2249|   13878|     2|         0|   4|\n",
      "|5aa00529-0533-46b...|2019-01-30|      2017|218712|       2|        3|       1965|   14375|     2|         0|   7|\n",
      "|131492a1-72e2-4a8...|2020-02-08|      2017|419199|       2|        3|       2062|    8876|     2|         0|   6|\n",
      "|8d54a71b-c520-44e...|2019-07-21|      2010|323956|       2|        3|       1506|   11816|     1|         0|  25|\n",
      "|e81aacfe-17fe-46b...|2020-06-16|      2016|181925|       3|        3|       2137|   11709|     2|         0|  22|\n",
      "|2ed8d509-7372-46d...|2021-08-06|      2015|258710|       3|        3|       1918|    9666|     1|         0|  25|\n",
      "|f876d86f-3c9f-42b...|2019-02-27|      2011|167864|       3|        3|       2471|   13924|     2|         0|  15|\n",
      "|0a2bd445-8508-4d8...|2021-12-30|      2014|337527|       2|        3|       1926|   12556|     1|         0|  23|\n",
      "|941bad30-eb49-4a7...|2020-05-09|      2015|229896|       3|        3|       2197|    8641|     1|         0|   3|\n",
      "|dd61eb34-6589-4c0...|2021-07-25|      2016|210247|       3|        2|       1672|   11986|     2|         0|  28|\n",
      "|f1e4cef7-d151-439...|2019-02-01|      2011|398667|       2|        3|       2331|   11356|     1|         0|   7|\n",
      "|ea620c7b-c2f7-4c6...|2021-05-31|      2011|437958|       3|        3|       2356|   11052|     1|         0|  26|\n",
      "|f233cb41-6f33-4b0...|2021-07-18|      2016|437375|       4|        3|       1704|   11721|     2|         0|  34|\n",
      "|c797ca12-52cd-4b1...|2019-06-08|      2015|288650|       2|        3|       2100|   10419|     2|         0|   7|\n",
      "|0cfe57f3-28c2-472...|2019-10-04|      2015|308313|       3|        3|       1960|    9453|     2|         0|   2|\n",
      "|4566cd2a-ac6e-435...|2019-07-15|      2016|177541|       3|        3|       2130|   10517|     2|         0|  25|\n",
      "+--------------------+----------+----------+------+--------+---------+-----------+--------+------+----------+----+\n",
      "only showing top 20 rows\n",
      "\n"
     ]
    }
   ],
   "source": [
    "# These lines of code read in the AWS S3 bucket into a DataFrame.\n",
    "url_string \\\n",
    "  = 'https://2u-data-curriculum-team.s3.amazonaws.com/dataviz-classroom/v1.2/22-big-data/home_sales_revised.csv'\n",
    "\n",
    "current_spark_session.sparkContext.addFile(url_string)\n",
    "\n",
    "home_sales_dataframe \\\n",
    "    = current_spark_session.read.csv \\\n",
    "          (SparkFiles.get('home_sales_revised.csv'),\n",
    "           sep = ',',\n",
    "           header = True)\n",
    "\n",
    "home_sales_dataframe.show()"
   ]
  },
  {
   "cell_type": "code",
   "execution_count": 4,
   "metadata": {
    "colab": {
     "base_uri": "https://localhost:8080/"
    },
    "id": "I6O93Ku3eJmQ",
    "outputId": "e64dadbf-3a97-47a6-ded7-b89dd6d9be64"
   },
   "outputs": [
    {
     "name": "stdout",
     "output_type": "stream",
     "text": [
      "root\n",
      " |-- id: string (nullable = true)\n",
      " |-- date: string (nullable = true)\n",
      " |-- date_built: string (nullable = true)\n",
      " |-- price: string (nullable = true)\n",
      " |-- bedrooms: string (nullable = true)\n",
      " |-- bathrooms: string (nullable = true)\n",
      " |-- sqft_living: string (nullable = true)\n",
      " |-- sqft_lot: string (nullable = true)\n",
      " |-- floors: string (nullable = true)\n",
      " |-- waterfront: string (nullable = true)\n",
      " |-- view: string (nullable = true)\n",
      "\n"
     ]
    }
   ],
   "source": [
    "# This line of code prints the table schema.\n",
    "home_sales_dataframe.printSchema()"
   ]
  },
  {
   "cell_type": "markdown",
   "metadata": {
    "id": "lh_FXQ6CYRrL"
   },
   "source": []
  },
  {
   "cell_type": "code",
   "execution_count": 5,
   "metadata": {
    "colab": {
     "base_uri": "https://localhost:8080/"
    },
    "id": "RoljcJ7WPpnm",
    "outputId": "82e00e08-6629-447e-8553-77f18641e842"
   },
   "outputs": [
    {
     "name": "stdout",
     "output_type": "stream",
     "text": [
      "<class 'pandas.core.frame.DataFrame'>\n",
      "RangeIndex: 33287 entries, 0 to 33286\n",
      "Data columns (total 11 columns):\n",
      " #   Column       Non-Null Count  Dtype \n",
      "---  ------       --------------  ----- \n",
      " 0   id           33287 non-null  object\n",
      " 1   date         33287 non-null  object\n",
      " 2   date_built   33287 non-null  object\n",
      " 3   price        33287 non-null  object\n",
      " 4   bedrooms     33287 non-null  object\n",
      " 5   bathrooms    33287 non-null  object\n",
      " 6   sqft_living  33287 non-null  object\n",
      " 7   sqft_lot     33287 non-null  object\n",
      " 8   floors       33287 non-null  object\n",
      " 9   waterfront   33287 non-null  object\n",
      " 10  view         33287 non-null  object\n",
      "dtypes: object(11)\n",
      "memory usage: 2.8+ MB\n"
     ]
    }
   ],
   "source": [
    "# This line of code prints the column names and data types.\n",
    "home_sales_dataframe.toPandas().info()"
   ]
  },
  {
   "cell_type": "code",
   "execution_count": 6,
   "metadata": {
    "colab": {
     "base_uri": "https://localhost:8080/"
    },
    "id": "cgZ4xd65d7vN",
    "outputId": "10f92112-5e1b-4247-c0b2-ecbca2a6346f"
   },
   "outputs": [
    {
     "name": "stdout",
     "output_type": "stream",
     "text": [
      "+--------------------+----------+----------+------+--------+---------+-----------+--------+------+----------+----+\n",
      "|                  id|      date|date_built| price|bedrooms|bathrooms|sqft_living|sqft_lot|floors|waterfront|view|\n",
      "+--------------------+----------+----------+------+--------+---------+-----------+--------+------+----------+----+\n",
      "|f8a53099-ba1c-47d...|2022-04-08|      2016|936923|       4|        3|       3167|   11733|     2|         1|  76|\n",
      "|7530a2d8-1ae3-451...|2021-06-13|      2013|379628|       2|        2|       2235|   14384|     1|         0|  23|\n",
      "|43de979c-0bf0-4c9...|2019-04-12|      2014|417866|       2|        2|       2127|   10575|     2|         0|   0|\n",
      "|b672c137-b88c-48b...|2019-10-16|      2016|239895|       2|        2|       1631|   11149|     2|         0|   0|\n",
      "|e0726d4d-d595-407...|2022-01-08|      2017|424418|       3|        2|       2249|   13878|     2|         0|   4|\n",
      "|5aa00529-0533-46b...|2019-01-30|      2017|218712|       2|        3|       1965|   14375|     2|         0|   7|\n",
      "|131492a1-72e2-4a8...|2020-02-08|      2017|419199|       2|        3|       2062|    8876|     2|         0|   6|\n",
      "|8d54a71b-c520-44e...|2019-07-21|      2010|323956|       2|        3|       1506|   11816|     1|         0|  25|\n",
      "|e81aacfe-17fe-46b...|2020-06-16|      2016|181925|       3|        3|       2137|   11709|     2|         0|  22|\n",
      "|2ed8d509-7372-46d...|2021-08-06|      2015|258710|       3|        3|       1918|    9666|     1|         0|  25|\n",
      "|f876d86f-3c9f-42b...|2019-02-27|      2011|167864|       3|        3|       2471|   13924|     2|         0|  15|\n",
      "|0a2bd445-8508-4d8...|2021-12-30|      2014|337527|       2|        3|       1926|   12556|     1|         0|  23|\n",
      "|941bad30-eb49-4a7...|2020-05-09|      2015|229896|       3|        3|       2197|    8641|     1|         0|   3|\n",
      "|dd61eb34-6589-4c0...|2021-07-25|      2016|210247|       3|        2|       1672|   11986|     2|         0|  28|\n",
      "|f1e4cef7-d151-439...|2019-02-01|      2011|398667|       2|        3|       2331|   11356|     1|         0|   7|\n",
      "|ea620c7b-c2f7-4c6...|2021-05-31|      2011|437958|       3|        3|       2356|   11052|     1|         0|  26|\n",
      "|f233cb41-6f33-4b0...|2021-07-18|      2016|437375|       4|        3|       1704|   11721|     2|         0|  34|\n",
      "|c797ca12-52cd-4b1...|2019-06-08|      2015|288650|       2|        3|       2100|   10419|     2|         0|   7|\n",
      "|0cfe57f3-28c2-472...|2019-10-04|      2015|308313|       3|        3|       1960|    9453|     2|         0|   2|\n",
      "|4566cd2a-ac6e-435...|2019-07-15|      2016|177541|       3|        3|       2130|   10517|     2|         0|  25|\n",
      "+--------------------+----------+----------+------+--------+---------+-----------+--------+------+----------+----+\n",
      "only showing top 20 rows\n",
      "\n"
     ]
    }
   ],
   "source": [
    "# These lines of code create a temporary view of the dataframe.\n",
    "home_sales_dataframe.createOrReplaceTempView('home_sales')\n",
    "\n",
    "current_spark_session.sql('SELECT * FROM home_sales').show()"
   ]
  },
  {
   "cell_type": "code",
   "execution_count": 7,
   "metadata": {
    "colab": {
     "base_uri": "https://localhost:8080/"
    },
    "id": "L6fkwOeOmqvq",
    "outputId": "153d36c4-6243-431b-dcb5-70174a39c0cd"
   },
   "outputs": [
    {
     "name": "stdout",
     "output_type": "stream",
     "text": [
      "+----+-------------+\n",
      "|year|average_price|\n",
      "+----+-------------+\n",
      "|2022|    296363.88|\n",
      "|2021|    301819.44|\n",
      "|2020|    298353.78|\n",
      "|2019|     300263.7|\n",
      "+----+-------------+\n",
      "\n"
     ]
    }
   ],
   "source": [
    "# These lines of code find and display the average price for a four bedroom house sold in each year\n",
    "# rounded to two decimal places.\n",
    "query_string \\\n",
    "  = \"\"\"SELECT YEAR(date) AS year,\n",
    "       ROUND(AVG(price), 2) AS average_price\n",
    "       FROM home_sales\n",
    "       WHERE bedrooms == 4\n",
    "       GROUP BY year\n",
    "       ORDER BY year DESC\"\"\"\n",
    "\n",
    "current_spark_session.sql(query_string).show()"
   ]
  },
  {
   "cell_type": "code",
   "execution_count": 8,
   "metadata": {
    "colab": {
     "base_uri": "https://localhost:8080/"
    },
    "id": "l8p_tUS8h8it",
    "outputId": "4ca9d2dd-73e5-4b83-eebe-3fcf1feeb606"
   },
   "outputs": [
    {
     "name": "stdout",
     "output_type": "stream",
     "text": [
      "+----------+-------------+\n",
      "|year_built|average_price|\n",
      "+----------+-------------+\n",
      "|      2017|    292676.79|\n",
      "|      2016|    290555.07|\n",
      "|      2015|     288770.3|\n",
      "|      2014|    290852.27|\n",
      "|      2013|    295962.27|\n",
      "|      2012|    293683.19|\n",
      "|      2011|    291117.47|\n",
      "|      2010|    292859.62|\n",
      "+----------+-------------+\n",
      "\n"
     ]
    }
   ],
   "source": [
    "# These lines of code find and display the average price of a home for each year the home was built\n",
    "# that have 3 bedrooms and 3 bathrooms rounded to two decimal places?\n",
    "query_string \\\n",
    "  = \"\"\"SELECT YEAR(date_built) AS year_built,\n",
    "       ROUND(AVG(price), 2) AS average_price\n",
    "       FROM home_sales\n",
    "       WHERE bedrooms == 3\n",
    "          AND bathrooms == 3\n",
    "       GROUP BY year_built\n",
    "       ORDER BY year_built DESC\"\"\"\n",
    "\n",
    "current_spark_session.sql(query_string).show()"
   ]
  },
  {
   "cell_type": "code",
   "execution_count": 9,
   "metadata": {
    "colab": {
     "base_uri": "https://localhost:8080/"
    },
    "id": "Y-Eytz64liDU",
    "outputId": "c0fc5def-81bb-4eed-df77-344b2bbc3829"
   },
   "outputs": [
    {
     "name": "stdout",
     "output_type": "stream",
     "text": [
      "+----------+-------------+\n",
      "|year_built|average_price|\n",
      "+----------+-------------+\n",
      "|      2017|    280317.58|\n",
      "|      2016|     293965.1|\n",
      "|      2015|    297609.97|\n",
      "|      2014|    298264.72|\n",
      "|      2013|    303676.79|\n",
      "|      2012|    307539.97|\n",
      "|      2011|    276553.81|\n",
      "|      2010|    285010.22|\n",
      "+----------+-------------+\n",
      "\n"
     ]
    }
   ],
   "source": [
    "# These lines of code find and display the average price of a home for each year built that has 3 bedrooms,\n",
    "# 3 bathrooms, with two floors, and are greater than or equal to 2,000 square feet rounded to two decimal\n",
    "# places?\n",
    "query_string \\\n",
    "  = \"\"\"SELECT YEAR(date_built) AS year_built,\n",
    "       ROUND(AVG(price), 2) AS average_price\n",
    "       FROM home_sales\n",
    "       WHERE bedrooms == 3\n",
    "          AND bathrooms == 3\n",
    "          AND floors == 2\n",
    "          AND sqft_living >= 2000\n",
    "       GROUP BY year_built\n",
    "       ORDER BY year_built DESC\"\"\"\n",
    "\n",
    "current_spark_session.sql(query_string).show()"
   ]
  },
  {
   "cell_type": "code",
   "execution_count": 10,
   "metadata": {
    "colab": {
     "base_uri": "https://localhost:8080/"
    },
    "id": "GUrfgOX1pCRd",
    "outputId": "f866d0d5-d342-40d8-ed7a-10e54c4eecfe"
   },
   "outputs": [
    {
     "name": "stdout",
     "output_type": "stream",
     "text": [
      "+----+-------------+\n",
      "|view|average_price|\n",
      "+----+-------------+\n",
      "|  99|   1061201.42|\n",
      "|  98|   1053739.33|\n",
      "|  97|   1129040.15|\n",
      "|  96|   1017815.92|\n",
      "|  95|    1054325.6|\n",
      "|  94|    1033536.2|\n",
      "|  93|   1026006.06|\n",
      "|  92|    970402.55|\n",
      "|  91|   1137372.73|\n",
      "|  90|   1062654.16|\n",
      "|  89|   1107839.15|\n",
      "|  88|   1031719.35|\n",
      "|  87|    1072285.2|\n",
      "|  86|   1070444.25|\n",
      "|  85|   1056336.74|\n",
      "|  84|   1117233.13|\n",
      "|  83|   1033965.93|\n",
      "|  82|    1063498.0|\n",
      "|  81|   1053472.79|\n",
      "|  80|    991767.38|\n",
      "+----+-------------+\n",
      "only showing top 20 rows\n",
      "\n",
      "--- 1.6828930377960205 seconds ---\n"
     ]
    }
   ],
   "source": [
    "# These lines of code find and display the \"view\" rating for the average price of a home, rounded to two\n",
    "# decimal places, where the homes are greater than or equal to $350,000.\n",
    "start_time_float = time.time()\n",
    "\n",
    "query_string \\\n",
    "  = \"\"\"SELECT view, ROUND(AVG(price), 2) AS average_price\n",
    "       FROM home_sales\n",
    "       GROUP BY view\n",
    "       HAVING AVG(price) >= 350000\n",
    "       ORDER BY view DESC\"\"\"\n",
    "\n",
    "current_spark_session.sql(query_string).show()\n",
    "\n",
    "print(\"--- %s seconds ---\" % (time.time() - start_time_float))"
   ]
  },
  {
   "cell_type": "code",
   "execution_count": 11,
   "metadata": {
    "colab": {
     "base_uri": "https://localhost:8080/"
    },
    "id": "KAhk3ZD2tFy8",
    "outputId": "8751dccb-d1ab-4ffb-dbb0-cbd96848f8a0"
   },
   "outputs": [
    {
     "data": {
      "text/plain": [
       "DataFrame[]"
      ]
     },
     "execution_count": 11,
     "metadata": {},
     "output_type": "execute_result"
    }
   ],
   "source": [
    "# This line of code caches the the temporary table, home_sales.\n",
    "current_spark_session.sql('cache table home_sales')"
   ]
  },
  {
   "cell_type": "code",
   "execution_count": 12,
   "metadata": {
    "colab": {
     "base_uri": "https://localhost:8080/"
    },
    "id": "4opVhbvxtL-i",
    "outputId": "a919dc8f-3b1f-4258-acb8-1b44992c307f"
   },
   "outputs": [
    {
     "data": {
      "text/plain": [
       "True"
      ]
     },
     "execution_count": 12,
     "metadata": {},
     "output_type": "execute_result"
    }
   ],
   "source": [
    "# This line of code checks if the table is cached.\n",
    "current_spark_session.catalog.isCached('home_sales')"
   ]
  },
  {
   "cell_type": "code",
   "execution_count": 13,
   "metadata": {
    "colab": {
     "base_uri": "https://localhost:8080/"
    },
    "id": "5GnL46lwTSEk",
    "outputId": "dc46ea97-063a-412b-ff62-5be804da7413"
   },
   "outputs": [
    {
     "name": "stdout",
     "output_type": "stream",
     "text": [
      "+----+-------------+\n",
      "|view|average_price|\n",
      "+----+-------------+\n",
      "|  99|   1061201.42|\n",
      "|  98|   1053739.33|\n",
      "|  97|   1129040.15|\n",
      "|  96|   1017815.92|\n",
      "|  95|    1054325.6|\n",
      "|  94|    1033536.2|\n",
      "|  93|   1026006.06|\n",
      "|  92|    970402.55|\n",
      "|  91|   1137372.73|\n",
      "|  90|   1062654.16|\n",
      "|  89|   1107839.15|\n",
      "|  88|   1031719.35|\n",
      "|  87|    1072285.2|\n",
      "|  86|   1070444.25|\n",
      "|  85|   1056336.74|\n",
      "|  84|   1117233.13|\n",
      "|  83|   1033965.93|\n",
      "|  82|    1063498.0|\n",
      "|  81|   1053472.79|\n",
      "|  80|    991767.38|\n",
      "+----+-------------+\n",
      "only showing top 20 rows\n",
      "\n",
      "--- 1.0189096927642822 seconds ---\n"
     ]
    }
   ],
   "source": [
    "# These lines of code, using the cached data, runs the query that filters out the view ratings with\n",
    "# average price greater than or equal to $350,000.\n",
    "start_time_float = time.time()\n",
    "\n",
    "query_string \\\n",
    "  = \"\"\"SELECT view, ROUND(AVG(price), 2) AS average_price\n",
    "       FROM home_sales\n",
    "       GROUP BY view\n",
    "       HAVING AVG(price) >= 350000\n",
    "       ORDER BY view DESC\"\"\"\n",
    "\n",
    "current_spark_session.sql(query_string).show()\n",
    "\n",
    "print(\"--- %s seconds ---\" % (time.time() - start_time_float))"
   ]
  },
  {
   "cell_type": "code",
   "execution_count": 14,
   "metadata": {
    "colab": {
     "base_uri": "https://localhost:8080/"
    },
    "id": "vq1nLZ5ynK56",
    "outputId": "281ba02d-3565-4e2c-ab93-35534d4e5307"
   },
   "outputs": [
    {
     "name": "stdout",
     "output_type": "stream",
     "text": [
      "The cached runtime, 0.601 seconds, is shorter than the uncached runtime, 2.059 seconds\n"
     ]
    }
   ],
   "source": [
    "print('The cached runtime, 0.601 seconds, is shorter than the uncached runtime, 2.059 seconds')"
   ]
  },
  {
   "cell_type": "code",
   "execution_count": 15,
   "metadata": {
    "id": "Qm12WN9isHBR"
   },
   "outputs": [],
   "source": [
    "# This line of code partitions the formatted parquet home sales data by the \"date_built\" field.\n",
    "home_sales_dataframe.write.partitionBy('date_built').mode('overwrite').parquet('p_home_sales')"
   ]
  },
  {
   "cell_type": "code",
   "execution_count": 16,
   "metadata": {
    "id": "AZ7BgY61sRqY"
   },
   "outputs": [],
   "source": [
    "# This line of code reads the parquet formatted data.\n",
    "parquet_dataframe = current_spark_session.read.parquet('p_home_sales')"
   ]
  },
  {
   "cell_type": "code",
   "execution_count": 17,
   "metadata": {
    "id": "J6MJkHfvVcvh"
   },
   "outputs": [],
   "source": [
    "# This line of code creates a temporary table for the parquet data.\n",
    "parquet_dataframe.createOrReplaceTempView('parquet_home_sales')"
   ]
  },
  {
   "cell_type": "code",
   "execution_count": 18,
   "metadata": {
    "colab": {
     "base_uri": "https://localhost:8080/"
    },
    "id": "EMWWVzK_KVts",
    "outputId": "8497f4b4-d34b-4a84-efd6-cb71f0225150"
   },
   "outputs": [
    {
     "name": "stdout",
     "output_type": "stream",
     "text": [
      "+----+-------------+\n",
      "|view|average_price|\n",
      "+----+-------------+\n",
      "|  99|   1061201.42|\n",
      "|  98|   1053739.33|\n",
      "|  97|   1129040.15|\n",
      "|  96|   1017815.92|\n",
      "|  95|    1054325.6|\n",
      "|  94|    1033536.2|\n",
      "|  93|   1026006.06|\n",
      "|  92|    970402.55|\n",
      "|  91|   1137372.73|\n",
      "|  90|   1062654.16|\n",
      "|  89|   1107839.15|\n",
      "|  88|   1031719.35|\n",
      "|  87|    1072285.2|\n",
      "|  86|   1070444.25|\n",
      "|  85|   1056336.74|\n",
      "|  84|   1117233.13|\n",
      "|  83|   1033965.93|\n",
      "|  82|    1063498.0|\n",
      "|  81|   1053472.79|\n",
      "|  80|    991767.38|\n",
      "+----+-------------+\n",
      "only showing top 20 rows\n",
      "\n",
      "--- 1.1948418617248535 seconds ---\n"
     ]
    }
   ],
   "source": [
    "# These lines of code run the query that filters out the view ratings with average price of greater\n",
    "# than or equal to $350,000 in the parquet dataframe and round the0 average to two decimal places.\n",
    "start_time_float = time.time()\n",
    "\n",
    "query_string \\\n",
    "  = \"\"\"SELECT view, ROUND(AVG(price), 2) AS average_price\n",
    "       FROM parquet_home_sales\n",
    "       GROUP BY view\n",
    "       HAVING AVG(price) >= 350000\n",
    "       ORDER BY view DESC\"\"\"\n",
    "\n",
    "current_spark_session.sql(query_string).show()\n",
    "\n",
    "print(\"--- %s seconds ---\" % (time.time() - start_time_float))"
   ]
  },
  {
   "cell_type": "code",
   "execution_count": 19,
   "metadata": {
    "colab": {
     "base_uri": "https://localhost:8080/"
    },
    "id": "G_Vhb52rU1Sn",
    "outputId": "63b696ba-ba80-4e31-ef55-cec93402f072"
   },
   "outputs": [
    {
     "name": "stdout",
     "output_type": "stream",
     "text": [
      "+----+-------------+\n",
      "|view|average_price|\n",
      "+----+-------------+\n",
      "|  99|   1061201.42|\n",
      "|  98|   1053739.33|\n",
      "|  97|   1129040.15|\n",
      "|  96|   1017815.92|\n",
      "|  95|    1054325.6|\n",
      "|  94|    1033536.2|\n",
      "|  93|   1026006.06|\n",
      "|  92|    970402.55|\n",
      "|  91|   1137372.73|\n",
      "|  90|   1062654.16|\n",
      "|   9|    401393.34|\n",
      "|  89|   1107839.15|\n",
      "|  88|   1031719.35|\n",
      "|  87|    1072285.2|\n",
      "|  86|   1070444.25|\n",
      "|  85|   1056336.74|\n",
      "|  84|   1117233.13|\n",
      "|  83|   1033965.93|\n",
      "|  82|    1063498.0|\n",
      "|  81|   1053472.79|\n",
      "+----+-------------+\n",
      "only showing top 20 rows\n",
      "\n",
      "--- 1.1531245708465576 seconds ---\n"
     ]
    }
   ],
   "source": [
    "start_time_float = time.time()\n",
    "\n",
    "filtered_parquet_houses_dataframe \\\n",
    "    = parquet_dataframe.filter(parquet_dataframe.price >= 350000)\n",
    "\n",
    "average_prices_dataframe \\\n",
    "    = filtered_parquet_houses_dataframe.groupBy('view') \\\n",
    "          .agg(round(avg('price'), 2) \\\n",
    "          .alias('average_price')) \\\n",
    "          .sort(filtered_parquet_houses_dataframe.view.desc())\n",
    "\n",
    "average_prices_dataframe.show()\n",
    "\n",
    "print(\"--- %s seconds ---\" % (time.time() - start_time_float))"
   ]
  },
  {
   "cell_type": "code",
   "execution_count": 20,
   "metadata": {
    "colab": {
     "base_uri": "https://localhost:8080/"
    },
    "id": "CKDoCmSHx5Jy",
    "outputId": "a97ea9eb-00fe-44ea-c29f-ea346da68e9c"
   },
   "outputs": [
    {
     "name": "stdout",
     "output_type": "stream",
     "text": [
      "The uncached runtime, 2.059 seconds, is longer than the runtime for the parquet data, 0.929 seconds\n"
     ]
    }
   ],
   "source": [
    "print('The uncached runtime, 2.059 seconds, is longer than the runtime for the parquet data, 0.929 seconds')"
   ]
  },
  {
   "cell_type": "code",
   "execution_count": 21,
   "metadata": {
    "colab": {
     "base_uri": "https://localhost:8080/"
    },
    "id": "hjjYzQGjtbq8",
    "outputId": "49fd51f8-a9e4-4a74-be06-2fb8a21c2fc7"
   },
   "outputs": [
    {
     "data": {
      "text/plain": [
       "DataFrame[]"
      ]
     },
     "execution_count": 21,
     "metadata": {},
     "output_type": "execute_result"
    }
   ],
   "source": [
    "# This line of code uncaches the home_sales temporary table.\n",
    "current_spark_session.sql('uncache table home_sales')"
   ]
  },
  {
   "cell_type": "code",
   "execution_count": 22,
   "metadata": {
    "colab": {
     "base_uri": "https://localhost:8080/"
    },
    "id": "Sy9NBvO7tlmm",
    "outputId": "63dc8fa0-5691-4921-c46f-11553b29d956"
   },
   "outputs": [
    {
     "name": "stdout",
     "output_type": "stream",
     "text": [
      "The table, home_sales, is NOT cached.\n"
     ]
    }
   ],
   "source": [
    "# These lines of code check if the home_sales is no longer cached.\n",
    "if current_spark_session.catalog.isCached('home_sales'):\n",
    "\n",
    "  print('The table, home_sales, is cached.')\n",
    "\n",
    "else:\n",
    "\n",
    "  print('The table, home_sales, is NOT cached.')"
   ]
  }
 ],
 "metadata": {
  "colab": {
   "include_colab_link": true,
   "provenance": []
  },
  "gpuClass": "standard",
  "kernelspec": {
   "display_name": "Python 3 (ipykernel)",
   "language": "python",
   "name": "python3"
  },
  "language_info": {
   "codemirror_mode": {
    "name": "ipython",
    "version": 3
   },
   "file_extension": ".py",
   "mimetype": "text/x-python",
   "name": "python",
   "nbconvert_exporter": "python",
   "pygments_lexer": "ipython3",
   "version": "3.11.7"
  },
  "nteract": {
   "version": "0.28.0"
  }
 },
 "nbformat": 4,
 "nbformat_minor": 4
}
